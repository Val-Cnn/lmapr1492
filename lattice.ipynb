{
 "cells": [
  {
   "cell_type": "markdown",
   "metadata": {},
   "source": [
    "# Lattice of GaSb"
   ]
  },
  {
   "cell_type": "code",
   "execution_count": 86,
   "metadata": {},
   "outputs": [],
   "source": [
    "from pymatgen.ext.matproj import MPRester\n",
    "from pymatgen.symmetry.analyzer import SpacegroupAnalyzer\n",
    "from jupyter_jsmol.pymatgen import quick_view"
   ]
  },
  {
   "cell_type": "code",
   "execution_count": 87,
   "metadata": {},
   "outputs": [],
   "source": [
    "with MPRester(\"SmhzvzkiqMXecCh0o4\") as m:\n",
    "\n",
    "    # Structure de mon cristal, GaSb\n",
    "    structure = m.get_structure_by_material_id(\"mp-1018059\")\n",
    "\n",
    "s = SpacegroupAnalyzer(structure)"
   ]
  },
  {
   "cell_type": "markdown",
   "metadata": {},
   "source": [
    "# Vecteurs de base du réseau direct"
   ]
  },
  {
   "cell_type": "code",
   "execution_count": 88,
   "metadata": {},
   "outputs": [
    {
     "name": "stdout",
     "output_type": "stream",
     "text": [
      "Vecteurs de bases du réseau direct : \n",
      "2.191967 -3.796599 0.000000\n",
      "2.191967 3.796599 0.000000\n",
      "0.000000 0.000000 7.207018\n",
      "\n",
      "Paramètre de maille du réseau direct:\n",
      "a = 4.383934340991306\n",
      "b = 4.383934340991306\n",
      "c = 7.207018\n",
      "α = 90.0\n",
      "β = 90.0\n",
      "γ = 119.99999999999999\n"
     ]
    }
   ],
   "source": [
    "sg = s.get_conventional_standard_structure() # fonction qui renvoie les caractéristiques du réseau\n",
    "direct = sg.lattice # fonction qui renvoie les vecteurs du réseau direct\n",
    "print('Vecteurs de bases du réseau direct : \\n'+str(sg.lattice) + '\\n')\n",
    "print('Paramètre de maille du réseau direct:')\n",
    "print('a = '+str(direct.a))\n",
    "print('b = '+str(direct.b))\n",
    "print('c = '+str(direct.c))\n",
    "print('\\u03B1 = '+ str(direct.alpha))\n",
    "print('\\u03B2 = '+ str(direct.beta))\n",
    "print('\\u03B3 = '+ str(direct.gamma))"
   ]
  },
  {
   "cell_type": "markdown",
   "metadata": {},
   "source": [
    "### Les vecteurs de base du réseau direct sont donnés par : \n",
    "\n",
    "* ${\\bf a }= [2.191967;-3.796599;0.000000]$\n",
    "\n",
    "* ${\\bf b }= [2.191967;3.796599;0.000000]$\n",
    "\n",
    "* ${\\bf c }= [0.000000;0.000000;7.207018]$\n",
    "\n",
    "### Les paramètres de maille du réseau direct vallent : \n",
    "\n",
    "* $ a = 4.383934340991306 Å$\n",
    "\n",
    "* $ b = 4.383934340991306 Å$\n",
    "\n",
    "* $ c = 7.207018 Å$\n",
    "\n",
    "* $ \\alpha = 90°$\n",
    "\n",
    "* $ \\beta = 90°$\n",
    "\n",
    "* $ \\gamma = 120°$"
   ]
  },
  {
   "cell_type": "markdown",
   "metadata": {},
   "source": [
    "# Vecteurs de base du réseau réciproque\n",
    "\n"
   ]
  },
  {
   "cell_type": "code",
   "execution_count": 89,
   "metadata": {},
   "outputs": [
    {
     "name": "stdout",
     "output_type": "stream",
     "text": [
      "Vecteurs de bases du réseau réciproque : \n",
      "1.433230 -0.827476 0.000000\n",
      "1.433230 0.827476 0.000000\n",
      "0.000000 0.000000 0.871815\n",
      "\n",
      "Paramètres de maille du réseau réciproque:\n",
      "a* = 1.6549512133651865\n",
      "b* = 1.6549512133651865\n",
      "c* = 0.8718148486904829\n",
      "α* = 90.0\n",
      "β* = 90.0\n",
      "γ* = 60.00000000000001\n"
     ]
    }
   ],
   "source": [
    "\n",
    "rl =direct.reciprocal_lattice # fonction qui renvoie les vecteurs du réseau réciproques\n",
    "\n",
    "\n",
    "print('Vecteurs de bases du réseau réciproque : \\n'+str(rl) + '\\n')\n",
    "print('Paramètres de maille du réseau réciproque:')\n",
    "print('a* = '+str(rl.a))\n",
    "print('b* = '+str(rl.b))\n",
    "print('c* = '+str(rl.c))\n",
    "print('\\u03B1* = '+ str(rl.alpha))\n",
    "print('\\u03B2* = '+ str(rl.beta))\n",
    "print('\\u03B3* = '+ str(rl.gamma))"
   ]
  },
  {
   "cell_type": "markdown",
   "metadata": {},
   "source": [
    "### Les vecteurs de base du réseau réciproque sont donnés par : \n",
    "\n",
    "* ${\\bf a^* }= [1.433230;-0.827476;0.000000]$\n",
    "\n",
    "* ${\\bf b^* }= [1.433230;0.827476;0.000000]$\n",
    "\n",
    "* ${\\bf c^* }= [0.000000;0.000000;0.871815]$\n",
    "\n",
    "### Les paramètres de maille du réseau réciproque vallent : \n",
    "\n",
    "* $ a^* = 1.6549512133651865 Å$\n",
    "\n",
    "* $ b^* = 1.6549512133651865 Å$\n",
    "\n",
    "* $ c^* = 0.8718148486904829 Å$\n",
    "\n",
    "* $ \\alpha^* = 90°$\n",
    "\n",
    "* $ \\beta^* = 90°$\n",
    "\n",
    "* $ \\gamma^* = 60°$"
   ]
  },
  {
   "cell_type": "markdown",
   "metadata": {},
   "source": [
    "# Type de maille"
   ]
  },
  {
   "cell_type": "code",
   "execution_count": 90,
   "metadata": {},
   "outputs": [
    {
     "name": "stdout",
     "output_type": "stream",
     "text": [
      "hexagonal\n"
     ]
    }
   ],
   "source": [
    "x = s.get_lattice_type() #fonction qui renvoie le type de maille du cristal\n",
    "print(x) "
   ]
  },
  {
   "cell_type": "markdown",
   "metadata": {},
   "source": [
    "La maille du cristal est hexagonale, maille qui est caractérisé par :\n",
    "* $ a = b \\ne c$\n",
    "* $ \\alpha = \\beta = 90°$ et $\\gamma = 120°$"
   ]
  },
  {
   "cell_type": "markdown",
   "metadata": {},
   "source": [
    "# Système cristallin"
   ]
  },
  {
   "cell_type": "code",
   "execution_count": 91,
   "metadata": {},
   "outputs": [
    {
     "name": "stdout",
     "output_type": "stream",
     "text": [
      "hexagonal\n"
     ]
    }
   ],
   "source": [
    "x = s.get_crystal_system() #fonction qui renvoie le système cristallin du cristal\n",
    "print(x)"
   ]
  },
  {
   "cell_type": "markdown",
   "metadata": {},
   "source": [
    "La système du cristal est hexagonale, système qui est caractérisé par :\n",
    "* $ a = b \\ne c$\n",
    "* $ \\alpha = \\beta = 90°$ et $\\gamma = 120°$"
   ]
  },
  {
   "cell_type": "markdown",
   "metadata": {},
   "source": [
    "# Groupe ponctuel"
   ]
  },
  {
   "cell_type": "code",
   "execution_count": 92,
   "metadata": {
    "scrolled": true
   },
   "outputs": [
    {
     "name": "stdout",
     "output_type": "stream",
     "text": [
      "6mm\n"
     ]
    }
   ],
   "source": [
    "#groupe ponctuel\n",
    "x = s.get_point_group_symbol() #fonction qui renvoie le groupe ponctuel du cristal\n",
    "print(x)"
   ]
  },
  {
   "cell_type": "markdown",
   "metadata": {},
   "source": [
    "Le groupe ponctuel du cristal est 6mm."
   ]
  }
 ],
 "metadata": {
  "kernelspec": {
   "display_name": "Python 3",
   "language": "python",
   "name": "python3"
  },
  "language_info": {
   "codemirror_mode": {
    "name": "ipython",
    "version": 3
   },
   "file_extension": ".py",
   "mimetype": "text/x-python",
   "name": "python",
   "nbconvert_exporter": "python",
   "pygments_lexer": "ipython3",
   "version": "3.8.3"
  }
 },
 "nbformat": 4,
 "nbformat_minor": 4
}
