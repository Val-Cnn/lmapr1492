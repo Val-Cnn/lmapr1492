{
 "cells": [
  {
   "cell_type": "markdown",
   "metadata": {},
   "source": [
    "# Symmetry\n",
    "Il s'agit dans ce document d'étudier l'effet de 3 éléments de symétrie différents pour 3 atomes du cristal."
   ]
  },
  {
   "cell_type": "code",
   "execution_count": 75,
   "metadata": {},
   "outputs": [],
   "source": [
    "from pymatgen import Structure\n",
    "from pymatgen.symmetry.analyzer import SpacegroupAnalyzer\n",
    "from pymatgen.analysis.bond_valence import BVAnalyzer\n",
    "from pymatgen.core.composition import Composition\n",
    "from pymatgen.ext.matproj import MPRester\n",
    "from jupyter_jsmol.pymatgen import quick_view\n",
    "from pymatgen.core.operations import SymmOp"
   ]
  },
  {
   "cell_type": "code",
   "execution_count": 76,
   "metadata": {},
   "outputs": [],
   "source": [
    "with MPRester(\"SmhzvzkiqMXecCh0o4\") as m:\n",
    "\n",
    "    # Structure de mon cristal, GaSb\n",
    "    struct = m.get_structure_by_material_id(\"mp-1018059\")"
   ]
  },
  {
   "cell_type": "code",
   "execution_count": 77,
   "metadata": {},
   "outputs": [],
   "source": [
    "view = quick_view(struct, conventional = True)"
   ]
  },
  {
   "cell_type": "code",
   "execution_count": 78,
   "metadata": {},
   "outputs": [
    {
     "data": {
      "application/vnd.jupyter.widget-view+json": {
       "model_id": "ef1a46898a5c4081ac80e10573665a05",
       "version_major": 2,
       "version_minor": 0
      },
      "text/plain": [
       "JsmolView(layout=Layout(align_self='stretch', height='400px'))"
      ]
     },
     "metadata": {},
     "output_type": "display_data"
    }
   ],
   "source": [
    "display(view)"
   ]
  },
  {
   "cell_type": "markdown",
   "metadata": {},
   "source": [
    "Le groupe d'espace de ce cristal est $P6_{3}mc$, grâce aux deux premiers éléments ($P6$), nous pouvons déduire le système primitif hexagonal du crital. Les différentes types de symétrie qui composent ce groupe d'espace sont :\n",
    "\n",
    "* Rotation hélicoïdale $6_3$\n",
    "* Plan miroir m\n",
    "* Plan de glissement c"
   ]
  },
  {
   "cell_type": "markdown",
   "metadata": {},
   "source": [
    "# Atome n°2 : réflexion\n",
    "Symétrie 10 : $(x, y, z) \\rightarrow (-y, -x, z)$"
   ]
  },
  {
   "cell_type": "code",
   "execution_count": 85,
   "metadata": {},
   "outputs": [
    {
     "name": "stdout",
     "output_type": "stream",
     "text": [
      "Coordonnées atome 2 :(0.333333, 0.666667, 0.374773)\n",
      "Matrice de l'opération de symétrie : \n",
      "Rot:\n",
      "[[ 0. -1.  0.]\n",
      " [-1.  0.  0.]\n",
      " [ 0.  0.  1.]]\n",
      "tau\n",
      "[0. 0. 0.]\n"
     ]
    }
   ],
   "source": [
    "#obtention des coordonnées de l'atome numéro 2\n",
    "print(\"Coordonnées atome 2 :\" + str((BVAnalyzer().get_oxi_state_decorated_structure(struct)[3].a,BVAnalyzer().get_oxi_state_decorated_structure(struct)[3].b,BVAnalyzer().get_oxi_state_decorated_structure(struct)[3].c)))\n",
    "#matrice de l'opération de symétrie correspondante\n",
    "print(\"Matrice de l'opération de symétrie : \\n\" + str(SymmOp.from_xyz_string(\"-y,-x,z\")))"
   ]
  },
  {
   "cell_type": "code",
   "execution_count": 86,
   "metadata": {},
   "outputs": [
    {
     "data": {
      "application/vnd.jupyter.widget-view+json": {
       "model_id": "b4b0557674ae47cbadc2a4e9e5e1beee",
       "version_major": 2,
       "version_minor": 0
      },
      "text/plain": [
       "JsmolView(layout=Layout(align_self='stretch', height='400px'))"
      ]
     },
     "metadata": {},
     "output_type": "display_data"
    }
   ],
   "source": [
    "view = quick_view(struct, conventional = True)\n",
    "display(view)\n",
    "view.script('draw symop 10 {atomno=2}')"
   ]
  },
  {
   "cell_type": "markdown",
   "metadata": {},
   "source": [
    "Cette symétrie est définie par un plan miroir. Il est représenté par un plan d'après quoi l'atome va effectuer une symétrie orthogonale. Ce plan (-210) est un plan miroir noté m et définit une opération de réflexion, nous le retrouvons bien dans la description du groupe spatial.\n",
    "\n",
    "Si nous partons des coordonnées générales de l'atome ; (x, y, z), l'application de la symétrie orthogonale va mener à l'atome en (-y, -x, z).\n",
    "\n",
    "Si l'on prend l'atome 2, qui est un atome de Sb et dont les coordonnées sont $(0.333333, 0.666667, 0.374773)$, l'application de la symétrie nous mène à la position $(-0.666667, -0.333333, 0.374773)$, en revenant dans la maille conventionnelle, on obtient $(0.333333, 0.666667, 0.374773)$, soit la propre image de l'atome 2.\n",
    "\n",
    "Cet opérateur de réflexion est définit par la matrice suivante:\n",
    "\n",
    "$$\\hat{\\sigma} = \\begin{pmatrix} 0 & -1 & 0 \\\\ -1 & 0 & 0 \\\\ 0 & 0 & 1 \\end{pmatrix}$$"
   ]
  },
  {
   "cell_type": "markdown",
   "metadata": {},
   "source": [
    "# Atome n°3 : rotation hélicoïdale\n",
    "Symétrie 4 : $(x, y, z) \\rightarrow (-x, -y, z+1/2)$"
   ]
  },
  {
   "cell_type": "code",
   "execution_count": 89,
   "metadata": {},
   "outputs": [
    {
     "name": "stdout",
     "output_type": "stream",
     "text": [
      "Coordonnées atome 3 :(0.666667, 0.333333, 0.500127)\n",
      "Matrice de l'opération de symétrie : \n",
      "Rot:\n",
      "[[-1.  0.  0.]\n",
      " [ 0. -1.  0.]\n",
      " [ 0.  0.  1.]]\n",
      "tau\n",
      "[0.  0.  0.5]\n"
     ]
    }
   ],
   "source": [
    "#obtention des coordonnées de l'atome numéro 3 \n",
    "print(\"Coordonnées atome 3 :\" + str((BVAnalyzer().get_oxi_state_decorated_structure(struct)[0].a,BVAnalyzer().get_oxi_state_decorated_structure(struct)[0].b,BVAnalyzer().get_oxi_state_decorated_structure(struct)[0].c)))\n",
    "#matrice de l'opération de symétrie correspondante\n",
    "print(\"Matrice de l'opération de symétrie : \\n\" + str(SymmOp.from_xyz_string(\"-x,-y,z+1/2\")))"
   ]
  },
  {
   "cell_type": "code",
   "execution_count": 82,
   "metadata": {},
   "outputs": [
    {
     "data": {
      "application/vnd.jupyter.widget-view+json": {
       "model_id": "953092125c544c7b81e79ad39b88aa85",
       "version_major": 2,
       "version_minor": 0
      },
      "text/plain": [
       "JsmolView(layout=Layout(align_self='stretch', height='400px'))"
      ]
     },
     "metadata": {},
     "output_type": "display_data"
    }
   ],
   "source": [
    "view = quick_view(struct, conventional = True)\n",
    "display(view)\n",
    "view.script('draw symop 4 {atomno=3}')"
   ]
  },
  {
   "cell_type": "markdown",
   "metadata": {},
   "source": [
    "Cette symétrie est représentée par un élément de symétrie jouant deux rôles. D'une part, on observe un axe de rotation autour duquel gravite une flèche courbe en rouge, ceci nous indique premièrement la présence d'une rotation de 180°. D'autre part, cet axe rotation joue également le rôle de vecteur de translation, sa direction est la même que celle du vecteur de base $\\bf{c}$ et sa norme vaut la moitié de c. Cet opération de symétrie est appelée rotation hélicoïdale $2_1$ et est tout à fait compatible avec la rotation hélicoïdale $6_3$ donnée dans le groupe spatial, en effet, $2_1$ correspond à $6_3$ appliquée 3 fois. \n",
    "\n",
    "Si nous partons des coordonnées générales de l'atome ; (x, y, z), dans un premier temps, l'application de la rotation de 180° autour de l'axe va mener l'atome en (-x, -y, z) et dans un deuxième temps, la translation va le conduire en (-x, -y, z+1/2). \n",
    "\n",
    "Si l'on part de l'atome 3, qui est un atome de Ga et dont les coordonnées sont $(0.666667, 0.333333, 0.500127)$, l'application de la symétrie nous mène à la position $(-0.666667, -0.333333, 1.000127)$, en revenant dans la maille conventionnelle, on obtient $(0.333333, 0.666667 , 0.000127)$, soit les coordonnées de l'atome 1.\n",
    "\n",
    "Cet opérateur est définit par la matrice de rotation et par le vecteur de translation suivants:\n",
    "\n",
    "$$\\hat{C}_{2} = \\begin{pmatrix} -1 & 0 & 0 \\\\ 0 & -1 & 0 \\\\ 0 & 0 & 1 \\end{pmatrix} \\;\\;\\;\\;\\;\\;\\; \\tau = \\begin{pmatrix} 0 \\\\ 0 \\\\ 1/2 \\end{pmatrix}$$\n",
    "\n"
   ]
  },
  {
   "cell_type": "markdown",
   "metadata": {},
   "source": [
    "# Atome n°4 : réflexion avec glissement\n",
    "Symétrie 7 : (x, y, z) -> (y, x, z+1/2)"
   ]
  },
  {
   "cell_type": "code",
   "execution_count": 90,
   "metadata": {},
   "outputs": [
    {
     "name": "stdout",
     "output_type": "stream",
     "text": [
      "Coordonnées atome 4 :(0.666667, 0.333333, 0.874773)\n",
      "Matrice de l'opération de symétrie : \n",
      "Rot:\n",
      "[[0. 1. 0.]\n",
      " [1. 0. 0.]\n",
      " [0. 0. 1.]]\n",
      "tau\n",
      "[0.  0.  0.5]\n"
     ]
    }
   ],
   "source": [
    "#obtention des coordonnées de l'atome numéro 4 \n",
    "print(\"Coordonnées atome 4 :\" + str((BVAnalyzer().get_oxi_state_decorated_structure(struct)[2].a,BVAnalyzer().get_oxi_state_decorated_structure(struct)[2].b,BVAnalyzer().get_oxi_state_decorated_structure(struct)[2].c)))\n",
    "#matrice de l'opération de symétrie correspondante\n",
    "print(\"Matrice de l'opération de symétrie : \\n\" + str(SymmOp.from_xyz_string(\"y,x,z+1/2\")))"
   ]
  },
  {
   "cell_type": "code",
   "execution_count": 84,
   "metadata": {},
   "outputs": [
    {
     "data": {
      "application/vnd.jupyter.widget-view+json": {
       "model_id": "3e7b474e995342adae168e611ffebf4d",
       "version_major": 2,
       "version_minor": 0
      },
      "text/plain": [
       "JsmolView(layout=Layout(align_self='stretch', height='400px'))"
      ]
     },
     "metadata": {},
     "output_type": "display_data"
    }
   ],
   "source": [
    "view = quick_view(struct, conventional = True)\n",
    "display(view)\n",
    "view.script('draw symop 7 {atomno=4}')"
   ]
  },
  {
   "cell_type": "markdown",
   "metadata": {},
   "source": [
    "Cette symétrie est représentée par un plan de glissement, d'une part, on observe un plan bleu correspondant à ce plan de glissement comprenant les vecteurs $\\bf{b}$ et $\\bf{c}$, soit le plan (100), l'atome subit ensuite une translation selon la moitié du vecteur $\\bf{c}$, parallèlement au plan de glissement. Cet élément de symétrie nous donne une opération de réflexion avec glissement. Comme le glissement se fait selon la moitié du vecteur de base c, il est dit axial. Cette symétrie est notée $c$, nous la retrouvons en dernière lettre dans la description du groupe spatial.\n",
    "\n",
    "Si nous partons des coordonnées générale de l'atome ; (x, y, z), dans un premier temps, l'application de la réflexion via le plan de glissement va mener l'atome en (y, x, z) et dans un deuxième temps, le glissement va le conduire en (y, x, z+1/2). \n",
    "\n",
    "Si l'on part de l'atome 4, qui est un atome de Sb et dont les coordonnées sont $(0.666667, 0.333333, 0.874773)$, l'application de la symétrie nous mène à la position $(0.333333, 0.666667 , 1.374773)$, en revenant dans la maille conventionnelle, on obtient $(0.333333, 0.666667 , 0.374773)$, soit les coordonnées de l'atome 2.\n",
    "\n",
    "\n",
    "Cet opérateur est définit par la matrice de rotation et par le vecteur de translation suivants:\n",
    "\n",
    "$$\\hat{\\sigma} = \\begin{pmatrix} 0 & 1 & 0 \\\\ 1 & 0 & 0 \\\\ 0 & 0 & 1 \\end{pmatrix} \\;\\;\\;\\;\\;\\;\\; \\tau = \\begin{pmatrix} 0 \\\\ 0 \\\\ 1/2 \\end{pmatrix}$$"
   ]
  },
  {
   "cell_type": "code",
   "execution_count": null,
   "metadata": {},
   "outputs": [],
   "source": []
  },
  {
   "cell_type": "code",
   "execution_count": null,
   "metadata": {},
   "outputs": [],
   "source": []
  },
  {
   "cell_type": "code",
   "execution_count": null,
   "metadata": {},
   "outputs": [],
   "source": []
  }
 ],
 "metadata": {
  "kernelspec": {
   "display_name": "Python 3",
   "language": "python",
   "name": "python3"
  },
  "language_info": {
   "codemirror_mode": {
    "name": "ipython",
    "version": 3
   },
   "file_extension": ".py",
   "mimetype": "text/x-python",
   "name": "python",
   "nbconvert_exporter": "python",
   "pygments_lexer": "ipython3",
   "version": "3.8.3"
  }
 },
 "nbformat": 4,
 "nbformat_minor": 4
}
